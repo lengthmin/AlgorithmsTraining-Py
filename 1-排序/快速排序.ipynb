{
 "cells": [
  {
   "cell_type": "code",
   "execution_count": 1,
   "metadata": {},
   "outputs": [
    {
     "name": "stdout",
     "output_type": "stream",
     "text": [
      "基准数: 6\n",
      "j: 7\n",
      "i: 3\n",
      "[6, 1, 2, 5, 9, 3, 4, 7, 10, 8]\n",
      "j: 6\n",
      "i: 4\n",
      "[6, 1, 2, 5, 4, 3, 9, 7, 10, 8]\n",
      "j: 5\n",
      "i: 5\n",
      "[6, 1, 2, 5, 4, 3, 9, 7, 10, 8]\n",
      "基准数: 3\n",
      "j: 2\n",
      "i: 2\n",
      "[3, 1, 2, 5, 4, 6, 9, 7, 10, 8]\n",
      "基准数: 2\n",
      "j: 1\n",
      "i: 1\n",
      "[2, 1, 3, 5, 4, 6, 9, 7, 10, 8]\n",
      "基准数: 1\n",
      "基准数: 3\n",
      "基准数: 5\n",
      "j: 4\n",
      "i: 4\n",
      "[1, 2, 3, 5, 4, 6, 9, 7, 10, 8]\n",
      "基准数: 4\n",
      "基准数: 6\n",
      "基准数: 9\n",
      "j: 9\n",
      "i: 8\n",
      "[1, 2, 3, 4, 5, 6, 9, 7, 8, 10]\n",
      "j: 8\n",
      "i: 8\n",
      "[1, 2, 3, 4, 5, 6, 9, 7, 8, 10]\n",
      "基准数: 8\n",
      "j: 7\n",
      "i: 7\n",
      "[1, 2, 3, 4, 5, 6, 8, 7, 9, 10]\n",
      "基准数: 7\n",
      "基准数: 9\n",
      "基准数: 10\n",
      "[1, 2, 3, 4, 5, 6, 7, 8, 9, 10]\n"
     ]
    }
   ],
   "source": [
    "# 快速排序\n",
    "a = [6,1,2,7,9,3,4,5,10,8]\n",
    "\n",
    "def quicksort(left,right):\n",
    "    temp = a[left] #设置一个基准数\n",
    "    i = left\n",
    "    j = right\n",
    "    print(\"基准数: %d\" % (temp))\n",
    "    if(left >= right):\n",
    "        return\n",
    "    \n",
    "    while(i != j):\n",
    "        #先从右往左查找\n",
    "        while(a[j] >= temp and i < j):\n",
    "            j = j - 1\n",
    "        print(\"j: %d\" %(j))\n",
    "        #再从左往右找\n",
    "        while(a[i] <= temp and i < j):\n",
    "            i = i + 1\n",
    "        print(\"i: %d\" %(i))\n",
    "        if(i < j):\n",
    "            a[i],a[j] = a[j],a[i]\n",
    "        print(a)\n",
    "    \n",
    "    a[left],a[i] = a[i],temp\n",
    "    #递归查找\n",
    "    quicksort(left,i-1)\n",
    "    quicksort(i+1,right)\n",
    "    return\n",
    "\n",
    "quicksort(0,len(a)-1)\n",
    "print(a)"
   ]
  },
  {
   "cell_type": "code",
   "execution_count": 29,
   "metadata": {},
   "outputs": [],
   "source": [
    "def quicksort(left, right, l):\n",
    "    if left > right:\n",
    "        return\n",
    "    p = l[left]\n",
    "    i = left\n",
    "    j = right\n",
    "    while i != j:\n",
    "        print(l)\n",
    "        while i < j and l[j] >= p:\n",
    "            j = j - 1\n",
    "        while i < j and l[i] <= p:\n",
    "            i = i + 1\n",
    "        if i < j:\n",
    "            l[i] = l[i] + l[j]\n",
    "            l[j] = l[i] - l[j]\n",
    "            l[i] = l[i] - l[j]\n",
    "    l[left] = l[i]\n",
    "    l[i] = p\n",
    "    print(l)\n",
    "    quicksort(left, i - 1,l)\n",
    "    quicksort(i + 1, right,l)"
   ]
  },
  {
   "cell_type": "code",
   "execution_count": 30,
   "metadata": {},
   "outputs": [
    {
     "name": "stdout",
     "output_type": "stream",
     "text": [
      "[99, 6, 57, 88, 60, 42, 83, 73, 48, 88, 85]\n",
      "[85, 6, 57, 88, 60, 42, 83, 73, 48, 88, 99]\n",
      "[85, 6, 57, 88, 60, 42, 83, 73, 48, 88, 99]\n",
      "[85, 6, 57, 48, 60, 42, 83, 73, 88, 88, 99]\n",
      "[73, 6, 57, 48, 60, 42, 83, 85, 88, 88, 99]\n",
      "[73, 6, 57, 48, 60, 42, 83, 85, 88, 88, 99]\n",
      "[42, 6, 57, 48, 60, 73, 83, 85, 88, 88, 99]\n",
      "[42, 6, 57, 48, 60, 73, 83, 85, 88, 88, 99]\n",
      "[6, 42, 57, 48, 60, 73, 83, 85, 88, 88, 99]\n",
      "[6, 42, 57, 48, 60, 73, 83, 85, 88, 88, 99]\n",
      "[6, 42, 57, 48, 60, 73, 83, 85, 88, 88, 99]\n",
      "[6, 42, 48, 57, 60, 73, 83, 85, 88, 88, 99]\n",
      "[6, 42, 48, 57, 60, 73, 83, 85, 88, 88, 99]\n",
      "[6, 42, 48, 57, 60, 73, 83, 85, 88, 88, 99]\n",
      "[6, 42, 48, 57, 60, 73, 83, 85, 88, 88, 99]\n",
      "[6, 42, 48, 57, 60, 73, 83, 85, 88, 88, 99]\n",
      "[6, 42, 48, 57, 60, 73, 83, 85, 88, 88, 99]\n",
      "[6, 42, 48, 57, 60, 73, 83, 85, 88, 88, 99]\n"
     ]
    }
   ],
   "source": [
    "l = [99,6,57,88,60,42,83,73,48,88,85]\n",
    "quicksort(0,len(l)-1,l)"
   ]
  },
  {
   "cell_type": "code",
   "execution_count": 14,
   "metadata": {},
   "outputs": [
    {
     "data": {
      "text/plain": [
       "[44, 8]"
      ]
     },
     "execution_count": 14,
     "metadata": {},
     "output_type": "execute_result"
    }
   ],
   "source": [
    "a = [8, 44]\n",
    "\n",
    "a[0] = a[0] + a[1]  # 8+5=13\n",
    "a[1] = a[0] - a[1]  # 13-8=5\n",
    "a[0] = a[0] - a[1]\n",
    "a"
   ]
  },
  {
   "cell_type": "code",
   "execution_count": null,
   "metadata": {},
   "outputs": [],
   "source": []
  }
 ],
 "metadata": {
  "kernelspec": {
   "display_name": "Python 3",
   "language": "python",
   "name": "python3"
  },
  "language_info": {
   "codemirror_mode": {
    "name": "ipython",
    "version": 3
   },
   "file_extension": ".py",
   "mimetype": "text/x-python",
   "name": "python",
   "nbconvert_exporter": "python",
   "pygments_lexer": "ipython3",
   "version": "3.7.1"
  }
 },
 "nbformat": 4,
 "nbformat_minor": 2
}

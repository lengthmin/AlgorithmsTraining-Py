{
 "cells": [
  {
   "cell_type": "markdown",
   "metadata": {},
   "source": [
    "小哼的学校要建立一个图书角，老师派小哼去找一些同学做调查，看看同学们都喜欢读哪些书。小哼让每个同学写出一个自己最想读的书的ISBN号（你知道吗？每本书都有唯一的ISBN号，不信话你去找本书翻到背面看看）。当然有一些好书会有很多同学都喜欢，这样就会收集到很多重复的ISBN号。小哼需要去掉其中重复的ISBN号，即每个ISBN号只保留一个，也就说同样的书只买一本（学校真是够抠门的）。然后再把这些ISBN号从小到大排序，小哼将按照排序好的ISBN号去书店去买书。请你协助小哼完成“去重”与“排序”的工作。 \n",
    "\n",
    "**输入格式:** \n",
    "输入有2行，第1行为一个正整数，表示有n个同学参与调查（n<=100）。第2行有n个用空格隔开的正整数，为每本图书的ISBN号（假设图书的ISBN号在1~1000之间）。   \n",
    "**输出格式:** \n",
    "输出也是2行，第1行为一个正整数k，表示需要买多少本书。第2行为k个用空格隔开的正整数，为从小到大已排好序的需要购买的图书ISBN号。 \n",
    "提示: 改编自全国青少年信息学奥林匹克联赛（NOIP2006）普及组第一题《明明的随机数》。   \n",
    "**限制: 每个测试点1秒**   \n",
    "**样例: **  \n",
    "**输入**   \n",
    "```\n",
    "10 \n",
    "20 40 32 67 40 20 89 300 400 15 \n",
    "```\n",
    "**输出**  \n",
    "```\n",
    "8 \n",
    "15 20 32 40 67 89 300 400\n",
    "```"
   ]
  },
  {
   "cell_type": "markdown",
   "metadata": {},
   "source": [
    "## 桶排序 \n",
    "时间复杂度$O(M+N)$"
   ]
  },
  {
   "cell_type": "code",
   "execution_count": 8,
   "metadata": {
    "scrolled": true
   },
   "outputs": [
    {
     "name": "stdout",
     "output_type": "stream",
     "text": [
      "5\n",
      "5\n",
      "4\n",
      "4\n",
      "3\n",
      "1\n",
      "4\n",
      "1 3 4 5 "
     ]
    }
   ],
   "source": [
    "t = []\n",
    "list = []\n",
    "count = 0\n",
    "for i in range(1000):\n",
    "    t.append(0)\n",
    "\n",
    "n = int(input())\n",
    "\n",
    "for i in range(n):\n",
    "    temp = int(input())\n",
    "    t[temp] =  t[temp] + 1\n",
    "\n",
    "for i in range(1000):\n",
    "    if(t[i] > 0):\n",
    "        count += 1\n",
    "        list.append(i)\n",
    "\n",
    "print(count)\n",
    "\n",
    "for i in list:\n",
    "    print(i,end= \" \")"
   ]
  },
  {
   "cell_type": "markdown",
   "metadata": {},
   "source": [
    "## 冒泡排序\n",
    "冒泡排序时间复杂度 $O(N^2)$  \n",
    "读入加输出 $O(3*N)$  \n",
    "但是我们一般忽略低阶  \n",
    "所以最终时间复杂度为$O(N^2)$  "
   ]
  },
  {
   "cell_type": "code",
   "execution_count": 1,
   "metadata": {},
   "outputs": [
    {
     "name": "stdout",
     "output_type": "stream",
     "text": [
      "5\n",
      "12\n",
      "55\n",
      "6\n",
      "12\n",
      "2\n",
      "4\n",
      "2 6 12 55 "
     ]
    }
   ],
   "source": [
    "list = []\n",
    "count = 0\n",
    "\n",
    "n = int(input())\n",
    "\n",
    "for i in range(n):\n",
    "    list.append(int(input()))\n",
    "\n",
    "for i in range(len(list) - 1):\n",
    "    for j in range(len(list) - 1 - i):\n",
    "        if(list[j]>list[j+1]):\n",
    "            list[j],list[j+1] = list[j+1],list[j]\n",
    "\n",
    "for i in range(len(list)):\n",
    "    if(i > 0):\n",
    "        if(list[i] != list[i-1]):\n",
    "            count = count + 1\n",
    "    else:\n",
    "            count = count + 1\n",
    "            \n",
    "print(count)\n",
    "\n",
    "for i in range(len(list)):\n",
    "    if(i > 0):\n",
    "        if(list[i] != list[i-1]):\n",
    "            print(list[i],end = \" \")\n",
    "    else:\n",
    "            print(list[i],end = \" \")"
   ]
  }
 ],
 "metadata": {
  "kernelspec": {
   "display_name": "Python 3",
   "language": "python",
   "name": "python3"
  },
  "language_info": {
   "codemirror_mode": {
    "name": "ipython",
    "version": 3
   },
   "file_extension": ".py",
   "mimetype": "text/x-python",
   "name": "python",
   "nbconvert_exporter": "python",
   "pygments_lexer": "ipython3",
   "version": "3.6.5"
  }
 },
 "nbformat": 4,
 "nbformat_minor": 2
}

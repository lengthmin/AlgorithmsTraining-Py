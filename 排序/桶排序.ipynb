{
 "cells": [
  {
   "cell_type": "code",
   "execution_count": 1,
   "metadata": {},
   "outputs": [
    {
     "name": "stdout",
     "output_type": "stream",
     "text": [
      "正序输出\n",
      "1 2 2 3 3 5 5 5 8  \n",
      "逆序输出\n",
      "8 5 5 5 3 3 2 2 1 "
     ]
    }
   ],
   "source": [
    "a = [5,2,3,5,8,5,1,2,3]\n",
    "list = [] #正序\n",
    "list1 = [] #倒序\n",
    "for i in range(0,10):\n",
    "    list.append(0)\n",
    "for i in a:\n",
    "    list[i] += 1\n",
    "list1 = list[::-1]\n",
    "\n",
    "print(\"正序输出\") #换行\n",
    "\n",
    "for i in range(len(list)):\n",
    "    for j in range(list[i]):\n",
    "        print(i,end = ' ')\n",
    "\n",
    "print(\" \") #换行\n",
    "print(\"逆序输出\") #换行\n",
    "for i in range(len(list1)):\n",
    "    for j in range(list1[i]):\n",
    "        print(len(list1) - i - 1,end = ' ')\n"
   ]
  },
  {
   "cell_type": "code",
   "execution_count": null,
   "metadata": {},
   "outputs": [],
   "source": []
  }
 ],
 "metadata": {
  "kernelspec": {
   "display_name": "Python 3",
   "language": "python",
   "name": "python3"
  },
  "language_info": {
   "codemirror_mode": {
    "name": "ipython",
    "version": 3
   },
   "file_extension": ".py",
   "mimetype": "text/x-python",
   "name": "python",
   "nbconvert_exporter": "python",
   "pygments_lexer": "ipython3",
   "version": "3.6.5"
  }
 },
 "nbformat": 4,
 "nbformat_minor": 2
}

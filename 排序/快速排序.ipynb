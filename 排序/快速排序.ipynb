{
 "cells": [
  {
   "cell_type": "code",
   "execution_count": 32,
   "metadata": {},
   "outputs": [
    {
     "name": "stdout",
     "output_type": "stream",
     "text": [
      "j: 7\n",
      "i: 3\n",
      "[6, 1, 2, 5, 9, 3, 4, 7, 10, 8]\n",
      "j: 6\n",
      "i: 4\n",
      "[6, 1, 2, 5, 4, 3, 9, 7, 10, 8]\n",
      "j: 5\n",
      "i: 5\n",
      "[6, 1, 2, 5, 4, 3, 9, 7, 10, 8]\n",
      "j: 2\n",
      "i: 2\n",
      "[3, 1, 2, 5, 4, 6, 9, 7, 10, 8]\n",
      "j: 1\n",
      "i: 1\n",
      "[2, 1, 3, 5, 4, 6, 9, 7, 10, 8]\n",
      "j: 4\n",
      "i: 4\n",
      "[1, 2, 3, 5, 4, 6, 9, 7, 10, 8]\n",
      "j: 9\n",
      "i: 8\n",
      "[1, 2, 3, 4, 5, 6, 9, 7, 8, 10]\n",
      "j: 8\n",
      "i: 8\n",
      "[1, 2, 3, 4, 5, 6, 9, 7, 8, 10]\n",
      "j: 7\n",
      "i: 7\n",
      "[1, 2, 3, 4, 5, 6, 8, 7, 9, 10]\n",
      "[1, 2, 3, 4, 5, 6, 7, 8, 9, 10]\n"
     ]
    }
   ],
   "source": [
    "# 快速排序\n",
    "a = [6,1,2,7,9,3,4,5,10,8]\n",
    "\n",
    "def quicksort(left,right):\n",
    "    temp = a[left] #设置一个基准数\n",
    "    i = left\n",
    "    j = right\n",
    "    \n",
    "    if(left >= right):\n",
    "        return\n",
    "    \n",
    "    while(i != j):\n",
    "        #先从右往左查找\n",
    "        while(a[j] >= temp and i < j):\n",
    "            j = j - 1\n",
    "        print(\"j: %d\" %(j))\n",
    "        #再从左往右找\n",
    "        while(a[i] <= temp and i < j):\n",
    "            i = i + 1\n",
    "        print(\"i: %d\" %(i))\n",
    "        if(i < j):\n",
    "            a[i],a[j] = a[j],a[i]\n",
    "        print(a)\n",
    "    \n",
    "    a[left],a[i] = a[i],temp\n",
    "    #递归查找\n",
    "    quicksort(left,i-1)\n",
    "    quicksort(i+1,right)\n",
    "    return\n",
    "\n",
    "quicksort(0,len(a)-1)\n",
    "print(a)"
   ]
  },
  {
   "cell_type": "code",
   "execution_count": null,
   "metadata": {},
   "outputs": [],
   "source": []
  }
 ],
 "metadata": {
  "kernelspec": {
   "display_name": "Python 3",
   "language": "python",
   "name": "python3"
  },
  "language_info": {
   "codemirror_mode": {
    "name": "ipython",
    "version": 3
   },
   "file_extension": ".py",
   "mimetype": "text/x-python",
   "name": "python",
   "nbconvert_exporter": "python",
   "pygments_lexer": "ipython3",
   "version": "3.6.5"
  }
 },
 "nbformat": 4,
 "nbformat_minor": 2
}

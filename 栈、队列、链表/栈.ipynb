{
 "cells": [
  {
   "cell_type": "markdown",
   "metadata": {},
   "source": [
    "队列:先进先出  \n",
    "栈:后进后出  \n",
    "栈限定为只能在一端进行操作"
   ]
  },
  {
   "cell_type": "markdown",
   "metadata": {},
   "source": [
    "## 判断回文字符串"
   ]
  },
  {
   "cell_type": "code",
   "execution_count": 16,
   "metadata": {},
   "outputs": [
    {
     "name": "stdout",
     "output_type": "stream",
     "text": [
      "([{}()]) 不是回文\n"
     ]
    }
   ],
   "source": [
    "str = \"([{}()])\"\n",
    "s = [0]*10\n",
    "# 123321\n",
    "# xyzyx\n",
    "# 求字符串的中点\n",
    "mid = int(len(str)/2)\n",
    "\n",
    "# 初始化栈\n",
    "top = 0\n",
    "\n",
    "# 将中点以前的字符入栈\n",
    "for i in range(mid):\n",
    "    top += 1\n",
    "    s[top] = str[i]\n",
    "\n",
    "if (len(str) % 2 == 0):\n",
    "    next = mid\n",
    "else:\n",
    "    next = mid + 1\n",
    "\n",
    "for i in range(next,len(str)):\n",
    "    if(str[i] != s[top]):\n",
    "        break\n",
    "    top -= 1\n",
    "\n",
    "if(top == 0):\n",
    "    print(\"%s 是回文\" % (str))\n",
    "else:\n",
    "    print(\"%s 不是回文\" % (str))"
   ]
  }
 ],
 "metadata": {
  "kernelspec": {
   "display_name": "Python 3",
   "language": "python",
   "name": "python3"
  },
  "language_info": {
   "codemirror_mode": {
    "name": "ipython",
    "version": 3
   },
   "file_extension": ".py",
   "mimetype": "text/x-python",
   "name": "python",
   "nbconvert_exporter": "python",
   "pygments_lexer": "ipython3",
   "version": "3.6.5"
  }
 },
 "nbformat": 4,
 "nbformat_minor": 2
}

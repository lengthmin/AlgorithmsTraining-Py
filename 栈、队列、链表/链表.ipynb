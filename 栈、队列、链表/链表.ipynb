{
 "cells": [
  {
   "cell_type": "code",
   "execution_count": 34,
   "metadata": {},
   "outputs": [
    {
     "name": "stdout",
     "output_type": "stream",
     "text": [
      "增加节点\n",
      "The link list is:2-->3-->5-->8-->9-->10\n",
      "插入数字六\n",
      "The link list is:2-->3-->5-->6-->8-->9-->10\n",
      "增加节点\n",
      "The link list is:2-->3-->5-->6-->8-->9-->10-->18-->26-->32\n"
     ]
    }
   ],
   "source": [
    "class Node:\n",
    "    # 创建节点\n",
    "    def __init__(self,data):\n",
    "        self.data = data\n",
    "        self.next = None\n",
    "\n",
    "class LinkList():\n",
    "    def __init__(self,node):\n",
    "        # 初始化链表\n",
    "        self.head = node\n",
    "        self.head.next = None\n",
    "        self.tail = self.head\n",
    "    \n",
    "    def add_node(self,node):\n",
    "        # 在尾部增加节点\n",
    "        self.tail.next = node\n",
    "        self.tail = self.tail.next\n",
    "    \n",
    "    def insert_node(self,node):\n",
    "        # 自动按照数字大小插入节点\n",
    "        t = self.head\n",
    "        a = node.data\n",
    "        while t is not None:\n",
    "            if(t.next is None or t.next.data > a):\n",
    "                node.next = t.next\n",
    "                t.next = node\n",
    "                t = t.next\n",
    "                break\n",
    "            t = t.next\n",
    "            \n",
    "    def view(self):\n",
    "        node = self.head\n",
    "        link_str = ''\n",
    "        while node is not None:\n",
    "            if node.next is not None:\n",
    "                link_str += str(node.data) + '-->'\n",
    "            else:\n",
    "                link_str += str(node.data)\n",
    "            node = node.next\n",
    "        print('The link list is:' + link_str)\n",
    "        \n",
    "node1 = Node(2)\n",
    "node2 = Node(3)\n",
    "node3 = Node(5)\n",
    "node4 = Node(8)\n",
    "node5 = Node(9)\n",
    "node6 = Node(10)\n",
    "node7 = Node(18)\n",
    "node8 = Node(26)\n",
    "node9 = Node(32)\n",
    "node10 = Node(6)\n",
    "\n",
    "linklist = LinkList(node1)\n",
    "linklist.add_node(node2)\n",
    "linklist.add_node(node3)\n",
    "linklist.add_node(node4)\n",
    "linklist.add_node(node5)\n",
    "linklist.add_node(node6)\n",
    "print(\"增加节点\")\n",
    "linklist.view()\n",
    "\n",
    "\n",
    "linklist.insert_node(node10)\n",
    "print(\"插入数字六\")\n",
    "linklist.view()\n",
    "\n",
    "linklist.add_node(node7)\n",
    "linklist.add_node(node8)\n",
    "linklist.add_node(node9)\n",
    "print(\"增加节点\")\n",
    "linklist.view()"
   ]
  },
  {
   "cell_type": "code",
   "execution_count": null,
   "metadata": {},
   "outputs": [],
   "source": []
  }
 ],
 "metadata": {
  "kernelspec": {
   "display_name": "Python 3",
   "language": "python",
   "name": "python3"
  },
  "language_info": {
   "codemirror_mode": {
    "name": "ipython",
    "version": 3
   },
   "file_extension": ".py",
   "mimetype": "text/x-python",
   "name": "python",
   "nbconvert_exporter": "python",
   "pygments_lexer": "ipython3",
   "version": "3.6.5"
  }
 },
 "nbformat": 4,
 "nbformat_minor": 2
}

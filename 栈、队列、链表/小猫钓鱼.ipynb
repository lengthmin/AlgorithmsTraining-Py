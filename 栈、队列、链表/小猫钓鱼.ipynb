{
 "cells": [
  {
   "cell_type": "code",
   "execution_count": 30,
   "metadata": {},
   "outputs": [],
   "source": [
    "class queue:\n",
    "    def __init__(self):\n",
    "        self.data = [0]*1000\n",
    "        self.head = 0\n",
    "        self.tail = 0\n",
    "\n",
    "class stack:\n",
    "    def __init__(self):\n",
    "        self.data = [0]*10\n",
    "        self.top = 0\n",
    "\n",
    "q1 = queue()\n",
    "q2 = queue()\n",
    "s = stack()\n",
    "book = [0]*10\n",
    "num1 = [2,4,1,2,5,6]\n",
    "num2 = [3,1,3,5,6,4]"
   ]
  },
  {
   "cell_type": "code",
   "execution_count": 31,
   "metadata": {},
   "outputs": [
    {
     "name": "stdout",
     "output_type": "stream",
     "text": [
      "6 6\n"
     ]
    }
   ],
   "source": [
    "for i in num1:\n",
    "    q1.data[q1.tail] = i\n",
    "    q1.tail += 1\n",
    "\n",
    "for i in num2:\n",
    "    q2.data[q2.tail] = i\n",
    "    q2.tail += 1\n",
    "\n",
    "print(q1.tail , q2.tail)"
   ]
  },
  {
   "cell_type": "code",
   "execution_count": 32,
   "metadata": {},
   "outputs": [
    {
     "name": "stdout",
     "output_type": "stream",
     "text": [
      "桌上的牌是:[0, 2, 3, 0, 0, 0, 0, 0, 0, 0]\n",
      "桌上的牌是:[0, 2, 3, 4, 1, 0, 0, 0, 0, 0]\n",
      "桌上的牌是:[0, 2, 3, 4, 1, 0, 0, 0, 0, 0]\n",
      "桌上的牌是:[0, 5, 3, 4, 1, 0, 0, 0, 0, 0]\n",
      "桌上的牌是:[0, 6, 3, 4, 1, 0, 0, 0, 0, 0]\n",
      "桌上的牌是:[0, 4, 3, 4, 1, 0, 0, 0, 0, 0]\n",
      "桌上的牌是:[0, 4, 1, 3, 1, 0, 0, 0, 0, 0]\n",
      "桌上的牌是:[0, 4, 1, 3, 1, 0, 0, 0, 0, 0]\n",
      "桌上的牌是:[0, 2, 3, 3, 1, 0, 0, 0, 0, 0]\n",
      "桌上的牌是:[0, 4, 3, 3, 1, 0, 0, 0, 0, 0]\n",
      "桌上的牌是:[0, 4, 5, 3, 1, 0, 0, 0, 0, 0]\n",
      "桌上的牌是:[0, 5, 4, 3, 1, 0, 0, 0, 0, 0]\n",
      "桌上的牌是:[0, 5, 4, 6, 1, 0, 0, 0, 0, 0]\n",
      "桌上的牌是:[0, 6, 4, 6, 1, 0, 0, 0, 0, 0]\n",
      "桌上的牌是:[0, 6, 4, 1, 5, 0, 0, 0, 0, 0]\n",
      "桌上的牌是:[0, 6, 4, 1, 5, 3, 0, 0, 0, 0]\n",
      "桌上的牌是:[0, 1, 4, 1, 5, 3, 0, 0, 0, 0]\n",
      "桌上的牌是:[0, 1, 4, 2, 5, 3, 0, 0, 0, 0]\n",
      "桌上的牌是:[0, 1, 4, 2, 5, 3, 6, 0, 0, 0]\n",
      "桌上的牌是:[0, 1, 4, 3, 5, 3, 6, 0, 0, 0]\n",
      "桌上的牌是:[0, 1, 4, 3, 2, 5, 6, 0, 0, 0]\n",
      "桌上的牌是:[0, 1, 4, 3, 2, 5, 6, 0, 0, 0]\n",
      "桌上的牌是:[0, 3, 4, 3, 2, 5, 6, 0, 0, 0]\n",
      "桌上的牌是:[0, 3, 4, 5, 6, 5, 6, 0, 0, 0]\n"
     ]
    }
   ],
   "source": [
    "while q1.head < q1.tail and q2.head < q2.tail:\n",
    "    # q1出牌阶段\n",
    "    t = q1.data[q1.head]\n",
    "    # q1出第一张牌t\n",
    "    if(book[t] == 0):\n",
    "        # q1本轮没有赢牌\n",
    "        # 把t入栈\n",
    "        q1.head += 1\n",
    "        s.top += 1\n",
    "        s.data[s.top] = t\n",
    "        book[t] = 1\n",
    "    else:\n",
    "        # q1本轮赢牌了\n",
    "        q1.head += 1\n",
    "        q1.data[q1.tail] = t\n",
    "        q1.tail += 1\n",
    "\n",
    "        while s.data[s.top] != t:\n",
    "            book[s.data[s.top]] = 0 # 取消标记\n",
    "            q1.data[q1.tail] = s.data[s.top]\n",
    "            q1.tail += 1\n",
    "            s.top -= 1 # 栈顶-1\n",
    "\n",
    "        book[s.data[s.top]] = 0 # 取消标记\n",
    "        q1.data[q1.tail] = s.data[s.top]\n",
    "        q1.tail += 1\n",
    "        s.top -= 1 # 栈顶-1\n",
    "    \n",
    "    if(q1.head == q1.tail): \n",
    "        break\n",
    "    \n",
    "    # q2出牌阶段\n",
    "    t = q2.data[q2.head]\n",
    "    # q2出第一张牌t\n",
    "    if(book[t] == 0):\n",
    "        # q2本轮没有赢牌\n",
    "        # 把t入栈\n",
    "        q2.head += 1\n",
    "        s.top += 1\n",
    "        s.data[s.top] = t\n",
    "        book[t] = 1\n",
    "    else:\n",
    "        # q2本轮赢牌了\n",
    "        q2.head += 1\n",
    "        q2.data[q2.tail] = t\n",
    "        q2.tail += 1\n",
    "\n",
    "        while s.data[s.top] != t:\n",
    "            book[s.data[s.top]] = 0 # 取消标记\n",
    "            q2.data[q2.tail] = s.data[s.top]\n",
    "            q2.tail += 1\n",
    "            s.top -= 1 # 栈顶-1\n",
    "\n",
    "        book[s.data[s.top]] = 0 # 取消标记\n",
    "        q2.data[q2.tail] = s.data[s.top]\n",
    "        q2.tail += 1\n",
    "        s.top -= 1 # 栈顶-1\n",
    "    \n",
    "    if(q2.head == q2.tail): \n",
    "        break\n",
    "    print(\"桌上的牌是:\" ,end = \"\")\n",
    "    print(s.data)"
   ]
  },
  {
   "cell_type": "code",
   "execution_count": 33,
   "metadata": {},
   "outputs": [
    {
     "name": "stdout",
     "output_type": "stream",
     "text": [
      "q2 Win\n"
     ]
    }
   ],
   "source": [
    "if q2.head == q2.tail:\n",
    "    print(\"q1 Win\")\n",
    "else:\n",
    "    print(\"q2 Win\")"
   ]
  }
 ],
 "metadata": {
  "kernelspec": {
   "display_name": "Python 3",
   "language": "python",
   "name": "python3"
  },
  "language_info": {
   "codemirror_mode": {
    "name": "ipython",
    "version": 3
   },
   "file_extension": ".py",
   "mimetype": "text/x-python",
   "name": "python",
   "nbconvert_exporter": "python",
   "pygments_lexer": "ipython3",
   "version": "3.6.5"
  }
 },
 "nbformat": 4,
 "nbformat_minor": 2
}

{
 "cells": [
  {
   "cell_type": "code",
   "execution_count": 1,
   "metadata": {},
   "outputs": [
    {
     "name": "stdout",
     "output_type": "stream",
     "text": [
      "2 3 5 6 8 9 10 18 26 32 "
     ]
    }
   ],
   "source": [
    "list = [2,3,5,8,9,10,18,26,32]\n",
    "right = [1,2,3,4,5,6,7,8,-1]\n",
    "zeros = [0]*100\n",
    "right.extend(zeros)\n",
    "# 读入要插入的数\n",
    "x = (int)(input())\n",
    "# 在数组data末尾增加一个数\n",
    "list.append(x)\n",
    "\n",
    "# 进行插入操作\n",
    "t = 0\n",
    "while ( t != -1):\n",
    "    if(list[right[t]] > list[-1]): # 如果下一个节点的值大于要插入的值,在该节点插入该数\n",
    "        right[len(list) - 1] = right[t]\n",
    "        right[t] = len(list) - 1\n",
    "        break # 插入完成要跳出\n",
    "    t = right[t]\n",
    "\n",
    "# 输出插入好的数组\n",
    "t = 0\n",
    "while ( t != -1):\n",
    "    print(list[t], end = \" \")\n",
    "    t = right[t]"
   ]
  },
  {
   "cell_type": "code",
   "execution_count": 2,
   "metadata": {},
   "outputs": [
    {
     "name": "stdout",
     "output_type": "stream",
     "text": [
      "[2, 3, 5, 8, 9, 10, 18, 26, 32, 6]\n"
     ]
    },
    {
     "data": {
      "text/plain": [
       "[1, 2, 9, 4, 5, 6, 7, 8, -1, 3]"
      ]
     },
     "execution_count": 2,
     "metadata": {},
     "output_type": "execute_result"
    }
   ],
   "source": [
    "# list 原貌\n",
    "print(list)\n",
    "right[0:len(list)]"
   ]
  }
 ],
 "metadata": {
  "kernelspec": {
   "display_name": "Python 3",
   "language": "python",
   "name": "python3"
  },
  "language_info": {
   "codemirror_mode": {
    "name": "ipython",
    "version": 3
   },
   "file_extension": ".py",
   "mimetype": "text/x-python",
   "name": "python",
   "nbconvert_exporter": "python",
   "pygments_lexer": "ipython3",
   "version": "3.6.5"
  }
 },
 "nbformat": 4,
 "nbformat_minor": 2
}

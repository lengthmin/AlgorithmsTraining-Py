{
 "cells": [
  {
   "cell_type": "markdown",
   "metadata": {},
   "source": [
    "假如说小哼手上有m根(m<=24)火柴棍,那么小哼能拼出多少个不同的A+B=C的等式呢?  \n",
    "'+'和'='共占四个火柴棒  \n",
    "A,B,C的范围都是`[0,1111]`  \n"
   ]
  },
  {
   "cell_type": "code",
   "execution_count": 26,
   "metadata": {},
   "outputs": [
    {
     "name": "stdout",
     "output_type": "stream",
     "text": [
      "0 + 4 = 4\n",
      "0 + 11 = 11\n",
      "1 + 10 = 11\n",
      "2 + 2 = 4\n",
      "2 + 7 = 9\n",
      "4 + 0 = 4\n",
      "7 + 2 = 9\n",
      "10 + 1 = 11\n",
      "11 + 0 = 11\n"
     ]
    }
   ],
   "source": [
    "def func(x):\n",
    "    sum = 0\n",
    "    while int(x / 10) != 0:\n",
    "        sum += count[int(x % 10)]\n",
    "        x = int(x / 10)\n",
    "    sum += count[x]\n",
    "    return sum\n",
    "\n",
    "count = [6,2,5,5,4,5,6,3,7,6]\n",
    "m = int(input(\"input a number:\"))\n",
    "for a in range(0,1112):\n",
    "    for b in range(0,1112):\n",
    "        c = a + b\n",
    "        if(func(a) + func(b) + func(c) == m - 4):\n",
    "            print(\"%d + %d = %d\" % (a,b,c))\n",
    "            "
   ]
  }
 ],
 "metadata": {
  "kernelspec": {
   "display_name": "Python 3",
   "language": "python",
   "name": "python3"
  },
  "language_info": {
   "codemirror_mode": {
    "name": "ipython",
    "version": 3
   },
   "file_extension": ".py",
   "mimetype": "text/x-python",
   "name": "python",
   "nbconvert_exporter": "python",
   "pygments_lexer": "ipython3",
   "version": "3.6.5"
  }
 },
 "nbformat": 4,
 "nbformat_minor": 2
}

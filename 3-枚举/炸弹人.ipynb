{
 "cells": [
  {
   "cell_type": "markdown",
   "metadata": {},
   "source": [
    "```\n",
    "测试数据\n",
    "#############\n",
    "#GG.GGG#GGG.#\n",
    "###.#G#G#G#G#\n",
    "#.......#..G#\n",
    "#G#.###.#G#G#\n",
    "#GG.GGG.#.GG#\n",
    "#G#.#G#.#.###\n",
    "##G...G.....#\n",
    "#G#.#G###.#G#\n",
    "#...G#GGG.GG#\n",
    "#G#.#G#G#.#G#\n",
    "#GG.GGG#G.GG#\n",
    "#############\n",
    "```"
   ]
  },
  {
   "cell_type": "code",
   "execution_count": 27,
   "metadata": {},
   "outputs": [],
   "source": [
    "a = []\n",
    "map = 0\n",
    "p = 0\n",
    "q = 0\n",
    "\n",
    "a.append(list(\"#############\"))\n",
    "a.append(list(\"#GG.GGG#GGG.#\"))\n",
    "a.append(list(\"###.#G#G#G#G#\"))\n",
    "a.append(list(\"#.......#..G#\"))\n",
    "a.append(list(\"#G#.###.#G#G#\"))\n",
    "a.append(list(\"#GG.GGG.#.GG#\"))\n",
    "a.append(list(\"#G#.#G#.#.###\"))\n",
    "a.append(list(\"##G...G.....#\"))\n",
    "a.append(list(\"#G#.#G###.#G#\"))\n",
    "a.append(list(\"#...G#GGG.GG#\"))\n",
    "a.append(list(\"#G#.#G#G#.#G#\"))\n",
    "a.append(list(\"#GG.GGG#G.GG#\"))\n",
    "a.append(list(\"#############\"))"
   ]
  },
  {
   "cell_type": "code",
   "execution_count": 28,
   "metadata": {},
   "outputs": [
    {
     "name": "stdout",
     "output_type": "stream",
     "text": [
      "sum: 8\n",
      "x: 9\n",
      "y: 9\n"
     ]
    }
   ],
   "source": [
    "for i in range(len(a)):\n",
    "    for j in range(len(a)):\n",
    "        sum = 0\n",
    "        if(a[i][j] == '.'):\n",
    "            x = i\n",
    "            y = j\n",
    "            # 向上统计可以消灭的敌人数量\n",
    "            while(a[x][y] != '#'):\n",
    "                if(a[x][y] == 'G'):\n",
    "                    sum += 1\n",
    "                x -= 1\n",
    "            \n",
    "            x = i\n",
    "            y = j\n",
    "            # 向下统计可以消灭的敌人数量\n",
    "            while(a[x][y] != '#'):\n",
    "                if(a[x][y] == 'G'):\n",
    "                    sum += 1\n",
    "                x += 1\n",
    "                \n",
    "            x = i\n",
    "            y = j\n",
    "            # 向左统计可以消灭的敌人数量\n",
    "            while(a[x][y] != '#'):\n",
    "                if(a[x][y] == 'G'):\n",
    "                    sum += 1\n",
    "                y -= 1\n",
    "                \n",
    "            x = i\n",
    "            y = j\n",
    "            # 向右统计可以消灭的敌人数量\n",
    "            while(a[x][y] != '#'):\n",
    "                if(a[x][y] == 'G'):\n",
    "                    sum += 1\n",
    "                y += 1\n",
    "            \n",
    "            if(sum > map):\n",
    "                map = sum\n",
    "                p = i\n",
    "                q = j\n",
    "\n",
    "print(\"sum:\" , map)\n",
    "print(\"x:\" , p)\n",
    "print(\"y:\" , q)"
   ]
  }
 ],
 "metadata": {
  "kernelspec": {
   "display_name": "Python 3",
   "language": "python",
   "name": "python3"
  },
  "language_info": {
   "codemirror_mode": {
    "name": "ipython",
    "version": 3
   },
   "file_extension": ".py",
   "mimetype": "text/x-python",
   "name": "python",
   "nbconvert_exporter": "python",
   "pygments_lexer": "ipython3",
   "version": "3.6.5"
  }
 },
 "nbformat": 4,
 "nbformat_minor": 2
}
